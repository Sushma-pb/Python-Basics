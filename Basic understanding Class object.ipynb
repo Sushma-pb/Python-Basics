{
 "cells": [
  {
   "cell_type": "markdown",
   "metadata": {},
   "source": [
    "# Class"
   ]
  },
  {
   "cell_type": "code",
   "execution_count": 13,
   "metadata": {},
   "outputs": [],
   "source": [
    "#creating class or Defining a class\n",
    "class Phone:\n",
    "    def making_call(self):      #this is a blue print for creating further objects\n",
    "        print(\"Making call\")\n",
    "    def play_game(self):\n",
    "        print(\"playing game\")\n",
    "        \n",
    "    "
   ]
  },
  {
   "cell_type": "code",
   "execution_count": 12,
   "metadata": {},
   "outputs": [],
   "source": [
    "#instantiaing the p1 object\n",
    "p1=Phone()"
   ]
  },
  {
   "cell_type": "code",
   "execution_count": 10,
   "metadata": {},
   "outputs": [
    {
     "name": "stdout",
     "output_type": "stream",
     "text": [
      "Making call\n"
     ]
    }
   ],
   "source": [
    "#invoking methods through objects\n",
    "p1.making_call()  #create a vaiable like p1"
   ]
  },
  {
   "cell_type": "code",
   "execution_count": 11,
   "metadata": {},
   "outputs": [
    {
     "name": "stdout",
     "output_type": "stream",
     "text": [
      "playing game\n"
     ]
    }
   ],
   "source": [
    "#invoking methods through the objects\n",
    "p1.play_game()"
   ]
  },
  {
   "cell_type": "markdown",
   "metadata": {},
   "source": [
    "# Adding Parameters to the class "
   ]
  },
  {
   "cell_type": "code",
   "execution_count": 14,
   "metadata": {},
   "outputs": [],
   "source": [
    "#setting and returning the atribute values\n"
   ]
  },
  {
   "cell_type": "code",
   "execution_count": 2,
   "metadata": {},
   "outputs": [],
   "source": [
    "\n",
    "# assigning extra arguements to the object\n",
    "class Phone:                            #creating class phone\n",
    "    def set_color(self,color):        #giving new arguement or atribute to the method\n",
    "        self.color = color            #self will assign the color attribute or arguement to the object\n",
    "                                      #self.color is helping us to assign that\n",
    "    def set_cost(self,cost):\n",
    "        self.cost=cost\n",
    "        \n",
    "    def show_color(self):             \n",
    "        return self.color          #you can return the atribute in a new method also\n",
    "    def show_cost(self):          # we have succesfully defined the class here \n",
    "        return self.cost        \n",
    "    def make_call(self):\n",
    "        print(\"making a call\")\n",
    "        \n",
    "    def play_game(self):\n",
    "        print(\"playing game\")\n",
    "        \n",
    "    "
   ]
  },
  {
   "cell_type": "code",
   "execution_count": 3,
   "metadata": {},
   "outputs": [],
   "source": [
    "p2 = Phone()"
   ]
  },
  {
   "cell_type": "code",
   "execution_count": 4,
   "metadata": {},
   "outputs": [],
   "source": [
    "p2.set_color(\"blue\")"
   ]
  },
  {
   "cell_type": "code",
   "execution_count": 5,
   "metadata": {},
   "outputs": [],
   "source": [
    "p2.set_cost(10000)"
   ]
  },
  {
   "cell_type": "code",
   "execution_count": 6,
   "metadata": {},
   "outputs": [
    {
     "data": {
      "text/plain": [
       "'blue'"
      ]
     },
     "execution_count": 6,
     "metadata": {},
     "output_type": "execute_result"
    }
   ],
   "source": [
    "p2.show_color()"
   ]
  },
  {
   "cell_type": "code",
   "execution_count": 7,
   "metadata": {},
   "outputs": [
    {
     "data": {
      "text/plain": [
       "10000"
      ]
     },
     "execution_count": 7,
     "metadata": {},
     "output_type": "execute_result"
    }
   ],
   "source": [
    "p2.show_cost()"
   ]
  },
  {
   "cell_type": "code",
   "execution_count": 60,
   "metadata": {},
   "outputs": [],
   "source": [
    "# assigning extra arguements to the object\n",
    "class Phone:\n",
    "    def set_color(self,color):    #self will assign the color attribute or arguement to the object\n",
    "        self.color = color\n",
    "        return self.color                              #self.color is helping us to assign that\n",
    "    def set_cost(self,cost):                     \n",
    "        self.cost=cost\n",
    "        return self.cost                          #you can return in the same method\n",
    "        \n",
    "                                                 # we have succesfully defined the class here \n",
    "    def make_call(self):\n",
    "        print(\"making a call\")\n",
    "        \n",
    "    def play_game(self):\n",
    "        print(\"playing game\")\n",
    "    def new_return(self):                         #you can return the self.cost in any other function\n",
    "        return self.cost\n",
    "        "
   ]
  },
  {
   "cell_type": "code",
   "execution_count": 61,
   "metadata": {},
   "outputs": [],
   "source": [
    "p3 = Phone()"
   ]
  },
  {
   "cell_type": "code",
   "execution_count": 62,
   "metadata": {},
   "outputs": [
    {
     "data": {
      "text/plain": [
       "'blue'"
      ]
     },
     "execution_count": 62,
     "metadata": {},
     "output_type": "execute_result"
    }
   ],
   "source": [
    "p3.set_color(\"blue\")"
   ]
  },
  {
   "cell_type": "code",
   "execution_count": 63,
   "metadata": {},
   "outputs": [
    {
     "data": {
      "text/plain": [
       "10000"
      ]
     },
     "execution_count": 63,
     "metadata": {},
     "output_type": "execute_result"
    }
   ],
   "source": [
    "p3.set_cost(10000)"
   ]
  },
  {
   "cell_type": "code",
   "execution_count": 65,
   "metadata": {},
   "outputs": [
    {
     "data": {
      "text/plain": [
       "10000"
      ]
     },
     "execution_count": 65,
     "metadata": {},
     "output_type": "execute_result"
    }
   ],
   "source": [
    "p3.new_return()"
   ]
  },
  {
   "cell_type": "markdown",
   "metadata": {},
   "source": [
    "# Creating a class with constructor"
   ]
  },
  {
   "cell_type": "raw",
   "metadata": {},
   "source": [
    "Costructor is a special type of method \n",
    "you can assign the values of the atributes at the time of creation of the object\n",
    "we define constructor with __init__ method"
   ]
  },
  {
   "cell_type": "code",
   "execution_count": 66,
   "metadata": {},
   "outputs": [],
   "source": [
    "\n",
    "class Employee:\n",
    "    def __init__(self,name,age,salary,gender):    #constructor creation \n",
    "        self.name = name\n",
    "        self.age = age                            #assigning the attributes or arguements to the object with the help of self\n",
    "        self.salary= salary\n",
    "        self.gender = gender\n",
    "    \n",
    "    def show_employee_details(self):                    \n",
    "        print(\"Name of the employee is \",self.name)\n",
    "        print(\"age of the employee is \",self.age)\n",
    "        print(\"salary of the employee is \",self.salary)\n",
    "        print(\"gender of the employee is \",self.gender)\n",
    "                "
   ]
  },
  {
   "cell_type": "code",
   "execution_count": 71,
   "metadata": {},
   "outputs": [],
   "source": [
    "e1=Employee(\"ejaz\",50,80000,\"male\")       #assigning the values of attributes at the time of creation of object"
   ]
  },
  {
   "cell_type": "code",
   "execution_count": 72,
   "metadata": {},
   "outputs": [
    {
     "name": "stdout",
     "output_type": "stream",
     "text": [
      "Name of the employee is  ejaz\n",
      "age of the employee is  50\n",
      "salary of the employee is  80000\n",
      "gender of the employee is  male\n"
     ]
    }
   ],
   "source": [
    "e1.show_employee_details()"
   ]
  },
  {
   "cell_type": "markdown",
   "metadata": {},
   "source": [
    "# Inheritance"
   ]
  },
  {
   "cell_type": "raw",
   "metadata": {},
   "source": [
    "with Inheritance one class can derive the properties of another class"
   ]
  },
  {
   "cell_type": "code",
   "execution_count": 2,
   "metadata": {},
   "outputs": [],
   "source": [
    "#this is our Base Class or Parent Class or Super Class\n",
    "class Vehicle():\n",
    "    def __init__(self,mileage,cost):\n",
    "        self.mileage= mileage \n",
    "        self.cost = cost\n",
    "    def show_vehicle_details(self):\n",
    "        print(\"mileage of vehicle is\",self.mileage)\n",
    "        print(\"cost of vehicle is \",self.cost)\n",
    "        print(\"I am a vehicle\")\n",
    "        "
   ]
  },
  {
   "cell_type": "code",
   "execution_count": 3,
   "metadata": {},
   "outputs": [],
   "source": [
    "v1 = Vehicle(mileage=70,cost=50000)    #in constructor you have to give the values while you instantiate any object else\n",
    "                                       #it will throw errror"
   ]
  },
  {
   "cell_type": "code",
   "execution_count": 4,
   "metadata": {},
   "outputs": [
    {
     "name": "stdout",
     "output_type": "stream",
     "text": [
      "mileage of vehicle is 70\n",
      "cost of vehicle is  50000\n",
      "I am a vehicle\n"
     ]
    }
   ],
   "source": [
    "v1.show_vehicle_details()"
   ]
  },
  {
   "cell_type": "code",
   "execution_count": 5,
   "metadata": {},
   "outputs": [],
   "source": [
    "#now let us create a child class which will inherit the properties of parent class"
   ]
  },
  {
   "cell_type": "code",
   "execution_count": null,
   "metadata": {},
   "outputs": [],
   "source": [
    "#this child class Car is inheritting the properties of PArent Class\n",
    "#which means it will inherit the attributes \n",
    "#mieage and cost and aslo the show vehicle details"
   ]
  },
  {
   "cell_type": "code",
   "execution_count": 10,
   "metadata": {},
   "outputs": [],
   "source": [
    "class Car(Vehicle):                         \n",
    "        def show_car_details(self):\n",
    "            print(\"I am a car\")\n",
    "                                               \n",
    "    "
   ]
  },
  {
   "cell_type": "code",
   "execution_count": 11,
   "metadata": {},
   "outputs": [],
   "source": [
    "c1 =Car(mileage = 60,cost=55000)  #since it has iheritted the from Parent class we can access the atributes here"
   ]
  },
  {
   "cell_type": "code",
   "execution_count": 12,
   "metadata": {},
   "outputs": [
    {
     "name": "stdout",
     "output_type": "stream",
     "text": [
      "mileage of vehicle is 60\n",
      "cost of vehicle is  55000\n",
      "I am a vehicle\n"
     ]
    }
   ],
   "source": [
    "c1.show_vehicle_details()      #though it is a child class we still have the method of the parent class"
   ]
  },
  {
   "cell_type": "code",
   "execution_count": 13,
   "metadata": {},
   "outputs": [
    {
     "name": "stdout",
     "output_type": "stream",
     "text": [
      "I am a car\n"
     ]
    }
   ],
   "source": [
    "c1.show_car_details()"
   ]
  },
  {
   "cell_type": "markdown",
   "metadata": {},
   "source": [
    "# overriding init method or creating constructor in the child class"
   ]
  },
  {
   "cell_type": "code",
   "execution_count": 14,
   "metadata": {},
   "outputs": [],
   "source": [
    "class Vehicle():\n",
    "    def __init__(self,mileage,cost):\n",
    "        self.mileage= mileage \n",
    "        self.cost = cost\n",
    "    def show_vehicle_details(self):\n",
    "        print(\"mileage of vehicle is\",self.mileage)\n",
    "        print(\"cost of vehicle is \",self.cost)\n",
    "        print(\"I am a vehicle\")"
   ]
  },
  {
   "cell_type": "code",
   "execution_count": null,
   "metadata": {},
   "outputs": [],
   "source": [
    "#this init method is overriding the parent init method or constructor method\n",
    "#super() will assign the passing mileage and cost in the parent class "
   ]
  },
  {
   "cell_type": "code",
   "execution_count": 19,
   "metadata": {},
   "outputs": [],
   "source": [
    "class Car(Vehicle):               #(Vehicle)parent class compulsory\n",
    "    def __init__(self,mileage,cost,tyre,hp):    #this is new init method taking the attributes of parent mileage and cost\n",
    "        super().__init__(mileage,cost)     #invoking the parents or super class init method by using super() method       \n",
    "        self.tyre = tyre                \n",
    "        self.hp = hp\n",
    "        \n",
    "    def show_car_details(self):\n",
    "        print(\"number of tyres present in the car\",self.tyre)\n",
    "        print(\"horse power of the car is\",self.hp)\n",
    "        print() "
   ]
  },
  {
   "cell_type": "code",
   "execution_count": 20,
   "metadata": {},
   "outputs": [],
   "source": [
    "c1= Car(mileage = 65,cost=60000,tyre= 4,hp=999)"
   ]
  },
  {
   "cell_type": "code",
   "execution_count": 21,
   "metadata": {},
   "outputs": [
    {
     "name": "stdout",
     "output_type": "stream",
     "text": [
      "mileage of vehicle is 65\n",
      "cost of vehicle is  60000\n",
      "I am a vehicle\n"
     ]
    }
   ],
   "source": [
    "c1.show_vehicle_details()"
   ]
  },
  {
   "cell_type": "code",
   "execution_count": 22,
   "metadata": {},
   "outputs": [
    {
     "name": "stdout",
     "output_type": "stream",
     "text": [
      "number of tyres present in the car 4\n",
      "horse power of the car is 999\n",
      "\n"
     ]
    }
   ],
   "source": [
    "c1.show_car_details()"
   ]
  },
  {
   "cell_type": "code",
   "execution_count": null,
   "metadata": {},
   "outputs": [],
   "source": []
  }
 ],
 "metadata": {
  "kernelspec": {
   "display_name": "Python 3",
   "language": "python",
   "name": "python3"
  },
  "language_info": {
   "codemirror_mode": {
    "name": "ipython",
    "version": 3
   },
   "file_extension": ".py",
   "mimetype": "text/x-python",
   "name": "python",
   "nbconvert_exporter": "python",
   "pygments_lexer": "ipython3",
   "version": "3.7.3"
  }
 },
 "nbformat": 4,
 "nbformat_minor": 2
}
