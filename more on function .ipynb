{
 "cells": [
  {
   "cell_type": "code",
   "execution_count": 1,
   "metadata": {},
   "outputs": [],
   "source": [
    "#function return and work flow\n",
    "\n",
    "def add_num(y):\n",
    "    x= 10\n",
    "    \n",
    "    z=x+y\n",
    "\n",
    "    n= x-y\n",
    "    \n",
    "    return z,n\n",
    "sum1,sub1 = add_num(20)"
   ]
  },
  {
   "cell_type": "code",
   "execution_count": 2,
   "metadata": {},
   "outputs": [
    {
     "data": {
      "text/plain": [
       "30"
      ]
     },
     "execution_count": 2,
     "metadata": {},
     "output_type": "execute_result"
    }
   ],
   "source": [
    "sum1"
   ]
  },
  {
   "cell_type": "code",
   "execution_count": 6,
   "metadata": {},
   "outputs": [
    {
     "name": "stdout",
     "output_type": "stream",
     "text": [
      "this is the first \n",
      "this is second\n"
     ]
    }
   ],
   "source": [
    "#nested function\n",
    "def first():\n",
    "    print(\"this is the first \")         #let us explain the workflow  \n",
    "    def second():\n",
    "        print(\"this is second\",)\n",
    "    second()                         #look at the calling indent\n",
    "        \n",
    "first()"
   ]
  }
 ],
 "metadata": {
  "kernelspec": {
   "display_name": "Python 3",
   "language": "python",
   "name": "python3"
  },
  "language_info": {
   "codemirror_mode": {
    "name": "ipython",
    "version": 3
   },
   "file_extension": ".py",
   "mimetype": "text/x-python",
   "name": "python",
   "nbconvert_exporter": "python",
   "pygments_lexer": "ipython3",
   "version": "3.7.3"
  }
 },
 "nbformat": 4,
 "nbformat_minor": 2
}
